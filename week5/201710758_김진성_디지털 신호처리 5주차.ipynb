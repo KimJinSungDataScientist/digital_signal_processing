{
 "cells": [
  {
   "cell_type": "markdown",
   "metadata": {},
   "source": [
    "# 디지털 신호 처리 5주차 과제\n",
    "## 201710758 휴먼지능정보공학과 김진성"
   ]
  },
  {
   "cell_type": "code",
   "execution_count": 1,
   "metadata": {},
   "outputs": [],
   "source": [
    "# Get thinkdsp.py\n",
    "\n",
    "import os\n",
    "\n",
    "if not os.path.exists('../thinkdsp.py'):\n",
    "    !wget https://github.com/AllenDowney/ThinkDSP/raw/master/code/thinkdsp.py"
   ]
  },
  {
   "cell_type": "code",
   "execution_count": 3,
   "metadata": {},
   "outputs": [],
   "source": [
    "import numpy as np\n",
    "import matplotlib.pyplot as plt\n",
    "\n",
    "# from thinkdsp import decorate"
   ]
  },
  {
   "cell_type": "code",
   "execution_count": 5,
   "metadata": {},
   "outputs": [],
   "source": [
    "from thinkdsp import Chirp\n",
    "from thinkdsp import normalize, unbias\n",
    "\n",
    "PI2 = 2 * np.pi\n",
    "\n",
    "class SawtoothChirp(Chirp):\n",
    "    def evaluate(self, ts):\n",
    "        freqs = np.linspace(self.start, self.end, len(ts))\n",
    "        dts = np.diff(ts, prepend=0)\n",
    "        dphis = PI2 * freqs * dts\n",
    "        phases = np.cumsum(dphis)\n",
    "        cycles = phases / PI2\n",
    "        frac, _ = np.modf(cycles)\n",
    "        ys =  normalize(unbias(frac), self.amp)\n",
    "        return ys"
   ]
  },
  {
   "cell_type": "markdown",
   "metadata": {},
   "source": [
    "# Make a sawtooth chirp that sweeps from 2500 to 3000 Hz, then use it to make a wave with duration 1 s and framerate 20 kHz."
   ]
  },
  {
   "cell_type": "code",
   "execution_count": 13,
   "metadata": {},
   "outputs": [],
   "source": [
    "signal = SawtoothChirp(start=2500, end=3000)\n",
    "wave = signal.make_wave(duration=1, framerate=20000)"
   ]
  },
  {
   "cell_type": "markdown",
   "metadata": {},
   "source": [
    "## 제가 생각하기에는, 2500~3000부분이 튀어나오고, 다른 부분은 꾸불꾸불한 길 일 것 같습니다!"
   ]
  },
  {
   "cell_type": "code",
   "execution_count": 14,
   "metadata": {},
   "outputs": [
    {
     "data": {
      "image/png": "[encoded data removed]",
      "text/plain": [
       "<Figure size 432x288 with 1 Axes>"
      ]
     },
     "metadata": {
      "needs_background": "light"
     },
     "output_type": "display_data"
    }
   ],
   "source": [
    "wave.make_spectrum().plot()"
   ]
  },
  {
   "cell_type": "markdown",
   "metadata": {},
   "source": [
    "## 제 생각에 추가로, 5000 - 6000부분, 7500 - 9000부분에서 sweep현상이 추가로 일어났습니다."
   ]
  }
 ],
 "metadata": {
  "kernelspec": {
   "display_name": "Py36",
   "language": "python",
   "name": "3.6"
  },
  "language_info": {
   "codemirror_mode": {
    "name": "ipython",
    "version": 3
   },
   "file_extension": ".py",
   "mimetype": "text/x-python",
   "name": "python",
   "nbconvert_exporter": "python",
   "pygments_lexer": "ipython3",
   "version": "3.6.13"
  }
 },
 "nbformat": 4,
 "nbformat_minor": 4
}
